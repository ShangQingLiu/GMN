{
 "cells": [
  {
   "cell_type": "code",
   "execution_count": 3,
   "metadata": {},
   "outputs": [
    {
     "data": {
      "text/plain": [
       "{'count': 3.0,\n",
       " 'mean': 1.0005,\n",
       " 'std': 1.7316178088423553,\n",
       " 'min': 0.00053,\n",
       " '25%': 0.00075,\n",
       " '50%': 0.00097,\n",
       " '75%': 1.500485,\n",
       " 'max': 3.0}"
      ]
     },
     "execution_count": 3,
     "metadata": {},
     "output_type": "execute_result"
    }
   ],
   "source": [
    "# Load tabular data\n",
    "root = \"./experiment_data/\"\n",
    "data_path = root +  \"DataSets/HardTablesR1/Valid/tables/004RX1PJ.csv\"\n",
    "data_truth_cea = root + \"DataSets/HardTablesR1/Valid/gt/cea_gt.csv\"\n",
    "data_truth_cpa = root + \"DataSets/HardTablesR1/Valid/gt/cpa_gt.csv\"\n",
    "data_truth_cta = root + \"DataSets/HardTablesR1/Valid/gt/cta_gt.csv\"\n",
    "\n",
    "import pandas as pd\n",
    "\n",
    "\n",
    "data = pd.read_csv(data_path)\n",
    "# data.head()\n",
    "# list(data.columns)\n",
    "data['col1'].describe().to_dict()\n"
   ]
  },
  {
   "cell_type": "code",
   "execution_count": 4,
   "metadata": {},
   "outputs": [
    {
     "name": "stdout",
     "output_type": "stream",
     "text": [
      "['###e9e3333ad03f4fecbc453ae4fad9e98b', '###3314a36c52d94fcfb7cb18f833d1c0f0']\n"
     ]
    },
    {
     "data": {
      "text/plain": [
       "NodeView(('###e9e3333ad03f4fecbc453ae4fad9e98b', 'CY Ursae Majoris', 'IY Ursae Majoris', 'SW Ursae Majoris', '###3314a36c52d94fcfb7cb18f833d1c0f0'))"
      ]
     },
     "execution_count": 4,
     "metadata": {},
     "output_type": "execute_result"
    }
   ],
   "source": [
    "# tabular data to networkx graph\n",
    "# ==============\n",
    "# column node: with UID and columnName=True\n",
    "# cell node: with name and isCell=True and isSubject=True/False\n",
    "# ==============\n",
    "\n",
    "import networkx as nx\n",
    "import uuid\n",
    "\n",
    "G = nx.DiGraph()\n",
    "\n",
    "cols_save = []\n",
    "node_ids = []\n",
    "for column in list(data.columns):\n",
    "\n",
    "    if(data[column].dtype == 'O'):\n",
    "        node_id = \"###\"+uuid.uuid4().hex\n",
    "        G.add_node(node_id,isColumnName=True,isSubject=True)\n",
    "        node_ids.append(node_id)\n",
    "        cols = data[column].to_list()\n",
    "        cols_save = cols\n",
    "        for col0 in cols:\n",
    "            for col1 in cols:\n",
    "                if col0 == col1:\n",
    "                    continue\n",
    "                G.add_edge(col1,col0)\n",
    "                G.add_edge(col0,col1)\n",
    "            G.add_node(col0,isCell=True,isSubject=True)\n",
    "            G.add_edge(node_id,col0,subclass=True,superclass=False)\n",
    "            G.add_edge(col0,node_id,subclass=False,superclass=True)\n",
    "    else:\n",
    "        node_id = \"###\"+uuid.uuid4().hex\n",
    "        G.add_node(node_id,isColumnName=True, isNumericColumn=True, numericProperty=data[column].describe().to_dict())\n",
    "        node_ids.append(node_id)\n",
    "        for key, value in data[column].describe().to_dict().items():\n",
    "            G.nodes[node_id][key] = value\n",
    "\n",
    "        # Add column relationship edge\n",
    "        print(node_ids)\n",
    "        for node in node_ids:\n",
    "            if node == node_id:\n",
    "                continue\n",
    "            G.add_edge(node_id,node)\n",
    "            G.add_edge(node,node_id)\n",
    "G.nodes()"
   ]
  },
  {
   "cell_type": "code",
   "execution_count": 5,
   "metadata": {},
   "outputs": [
    {
     "data": {
      "image/png": "[encoded data removed]",
      "text/plain": [
       "<Figure size 432x288 with 1 Axes>"
      ]
     },
     "metadata": {},
     "output_type": "display_data"
    }
   ],
   "source": [
    "# Draw graph\n",
    "import matplotlib.pyplot as plt\n",
    "nx.draw(G)\n",
    "plt.show()"
   ]
  },
  {
   "cell_type": "code",
   "execution_count": 6,
   "metadata": {},
   "outputs": [],
   "source": [
    "# Curl data\n",
    "import requests\n",
    "def get_Q_json_by_request(search_term):\n",
    "    search_term = search_term.replace(\" \",\"+\")\n",
    "    url = \"https://www.wikidata.org/w/api.php?action=wbsearchentities&search=@@@&format=json&language=en&uselang=en&type=item\"\n",
    "    url = url.replace('@@@',search_term)\n",
    "    r = requests.get(url)\n",
    "    return r.json()"
   ]
  },
  {
   "cell_type": "code",
   "execution_count": 8,
   "metadata": {},
   "outputs": [],
   "source": [
    "import re\n",
    "def extract_Q_value(url):\n",
    "  Q_value = re.search('(\\/)(Q\\d+)',url)\n",
    "  return Q_value[2]\n",
    "\n",
    "\n",
    "\n",
    "def find_relevant_Q_value(title):\n",
    "  res = get_Q_json_by_request(title)\n",
    "  print(f\"Q_value Result by finding title:{title}\\n, result:{res}\")\n",
    "  bindings = res['search']\n",
    "  Q_values = []\n",
    "  for index, binding in enumerate(bindings):\n",
    "    Q_values.append(binding['id'])\n",
    "  return Q_values\n",
    "\n",
    "# # Test\n",
    "# find_relevant_Q_value(\"IY Ursae Majoris\")\n"
   ]
  },
  {
   "cell_type": "code",
   "execution_count": 11,
   "metadata": {},
   "outputs": [
    {
     "name": "stdout",
     "output_type": "stream",
     "text": [
      "start searching:IY Ursae Majoris\n",
      "Q_value Result by finding title:IY Ursae Majoris\n",
      ", result:{'searchinfo': {'search': 'IY Ursae Majoris'}, 'search': [{'id': 'Q98523828', 'title': 'Q98523828', 'pageid': 96730000, 'display': {'label': {'value': 'IY Ursae Majoris', 'language': 'en'}}, 'repository': 'wikidata', 'url': '//www.wikidata.org/wiki/Q98523828', 'concepturi': 'http://www.wikidata.org/entity/Q98523828', 'label': 'IY Ursae Majoris', 'match': {'type': 'label', 'language': 'en', 'text': 'IY Ursae Majoris'}}, {'id': 'Q68173190', 'title': 'Q68173190', 'pageid': 67846262, 'display': {'label': {'value': 'IY Ursae Majoris', 'language': 'en'}, 'description': {'value': 'scholarly article', 'language': 'en'}}, 'repository': 'wikidata', 'url': '//www.wikidata.org/wiki/Q68173190', 'concepturi': 'http://www.wikidata.org/entity/Q68173190', 'label': 'IY Ursae Majoris', 'description': 'scholarly article', 'match': {'type': 'label', 'language': 'en', 'text': 'IY Ursae Majoris'}}], 'success': 1}\n",
      "Q_values:['Q98523828', 'Q68173190']\n",
      "start searching Q_value:Q98523828\n",
      "{'catalog code (P528)': ['2MASS J10435672+5807319', 'AAVSO 1037+58', 'Tmz V085', 'USNO-A2.0 1425-07542823', 'IY UMa', 'SDSS J104356.72+580731.9', 'SDSS J104356.73+580731.9', 'GUVV J104356.6+580732.1', 'PM J10439+5807', 'SDSS J104356.71+580732.3', 'Gaia DR2 855167540988615296'], 'instance of (P31)': ['dwarf nova (Q244264)', 'high proper-motion star (Q2247863)', 'cataclysmic binary candidate (Q72704237)'], 'right ascension (P6257)': {'amount': '+160.98645281660050', 'unit': 'http://www.wikidata.org/entity/Q28390'}, 'radial velocity (P2216)': {'amount': '+159', 'unit': 'http://www.wikidata.org/entity/Q3674704', 'upperBound': '+159', 'lowerBound': '+159'}, 'distance from Earth (P2583)': {'amount': '+178.4854', 'unit': 'http://www.wikidata.org/entity/Q12129', 'upperBound': '+181.7667', 'lowerBound': '+175.2041'}, 'proper motion (P2215)': [{'amount': '-19.650', 'unit': 'http://www.wikidata.org/entity/Q22137107', 'upperBound': '-19.503', 'lowerBound': '-19.797'}, {'amount': '-60.983', 'unit': 'http://www.wikidata.org/entity/Q22137107', 'upperBound': '-60.882', 'lowerBound': '-61.084'}], 'epoch (P6259)': 'J2000.0 (Q1264450)', 'SIMBAD ID (P3083)': 'V* IY UMa', 'redshift (P1090)': {'amount': '+0.00053', 'unit': '1', 'upperBound': '+0.00063', 'lowerBound': '+0.00043'}, 'apparent magnitude (P1215)': [{'amount': '+15.725', 'unit': '1', 'upperBound': '+15.817', 'lowerBound': '+15.633'}, {'amount': '+15.100', 'unit': '1', 'upperBound': '+15.192', 'lowerBound': '+15.008'}, {'amount': '+17.52', 'unit': '1'}, {'amount': '+17.774', 'unit': '1', 'upperBound': '+17.785', 'lowerBound': '+17.763'}, {'amount': '+17.540', 'unit': '1', 'upperBound': '+17.545', 'lowerBound': '+17.535'}, {'amount': '+17.645', 'unit': '1', 'upperBound': '+17.651', 'lowerBound': '+17.639'}, {'amount': '+17.625', 'unit': '1', 'upperBound': '+17.632', 'lowerBound': '+17.618'}, {'amount': '+17.186', 'unit': '1', 'upperBound': '+17.199', 'lowerBound': '+17.173'}, {'amount': '+17.62', 'unit': '1'}, {'amount': '+17.60', 'unit': '1'}, {'amount': '+14.865', 'unit': '1', 'upperBound': '+14.966', 'lowerBound': '+14.764'}, {'amount': '+16.61', 'unit': '1'}, {'amount': '+17.4375', 'unit': '1', 'upperBound': '+17.4607', 'lowerBound': '+17.4143'}], 'constellation (P59)': 'Ursa Major (Q8918)', 'declination (P6258)': {'amount': '+58.12553253491770', 'unit': 'http://www.wikidata.org/entity/Q28390'}, 'parallax (P2214)': {'amount': '+5.6027', 'unit': 'http://www.wikidata.org/entity/Q21500224', 'upperBound': '+5.7057', 'lowerBound': '+5.4997'}, 'Google Knowledge Graph ID (P2671)': '/g/11kwk1ncg7'}\n",
      "start searching Q_value:Q68173190\n",
      "{'ADS bibcode (P819)': '2000IAUC.7353S...1S', 'publication date (P577)': '+2000-01-01T00:00:00Z', 'volume (P478)': '7353', 'published in (P1433)': 'IAU Circular (Q12058137)', 'instance of (P31)': 'scholarly article (Q13442814)', 'author name string (P2093)': 'Samus N. N.', 'page(s) (P304)': '1', 'title (P1476)': 'IY Ursae Majoris', 'language of work or name (P407)': 'English (Q1860)'}\n",
      "start searching:CY Ursae Majoris\n",
      "Q_value Result by finding title:CY Ursae Majoris\n",
      ", result:{'searchinfo': {'search': 'CY Ursae Majoris'}, 'search': [{'id': 'Q80607131', 'title': 'Q80607131', 'pageid': 79986388, 'display': {'label': {'value': 'CY Ursae Majoris', 'language': 'en'}}, 'repository': 'wikidata', 'url': '//www.wikidata.org/wiki/Q80607131', 'concepturi': 'http://www.wikidata.org/entity/Q80607131', 'label': 'CY Ursae Majoris', 'match': {'type': 'label', 'language': 'en', 'text': 'CY Ursae Majoris'}}, {'id': 'Q68234741', 'title': 'Q68234741', 'pageid': 67907435, 'display': {'label': {'value': 'CY Ursae Majoris', 'language': 'en'}}, 'repository': 'wikidata', 'url': '//www.wikidata.org/wiki/Q68234741', 'concepturi': 'http://www.wikidata.org/entity/Q68234741', 'label': 'CY Ursae Majoris', 'match': {'type': 'label', 'language': 'en', 'text': 'CY Ursae Majoris'}}, {'id': 'Q68612207', 'title': 'Q68612207', 'pageid': 68283286, 'display': {'label': {'value': 'CY Ursae Majoris', 'language': 'en'}, 'description': {'value': 'scientific article published in January 1988', 'language': 'en'}}, 'repository': 'wikidata', 'url': '//www.wikidata.org/wiki/Q68612207', 'concepturi': 'http://www.wikidata.org/entity/Q68612207', 'label': 'CY Ursae Majoris', 'description': 'scientific article published in January 1988', 'match': {'type': 'label', 'language': 'en', 'text': 'CY Ursae Majoris'}}, {'id': 'Q68232091', 'title': 'Q68232091', 'pageid': 67904791, 'display': {'label': {'value': 'CY Ursae Majoris', 'language': 'en'}}, 'repository': 'wikidata', 'url': '//www.wikidata.org/wiki/Q68232091', 'concepturi': 'http://www.wikidata.org/entity/Q68232091', 'label': 'CY Ursae Majoris', 'match': {'type': 'label', 'language': 'en', 'text': 'CY Ursae Majoris'}}, {'id': 'Q68234742', 'title': 'Q68234742', 'pageid': 67907437, 'display': {'label': {'value': 'CY Ursae Majoris', 'language': 'en'}, 'description': {'value': 'scientific article published in January 1989', 'language': 'en'}}, 'repository': 'wikidata', 'url': '//www.wikidata.org/wiki/Q68234742', 'concepturi': 'http://www.wikidata.org/entity/Q68234742', 'label': 'CY Ursae Majoris', 'description': 'scientific article published in January 1989', 'match': {'type': 'label', 'language': 'en', 'text': 'CY Ursae Majoris'}}, {'id': 'Q68149821', 'title': 'Q68149821', 'pageid': 67823275, 'display': {'label': {'value': 'CY Ursae Majoris', 'language': 'en'}, 'description': {'value': 'scientific article', 'language': 'en'}}, 'repository': 'wikidata', 'url': '//www.wikidata.org/wiki/Q68149821', 'concepturi': 'http://www.wikidata.org/entity/Q68149821', 'label': 'CY Ursae Majoris', 'description': 'scientific article', 'match': {'type': 'label', 'language': 'en', 'text': 'CY Ursae Majoris'}}, {'id': 'Q68623350', 'title': 'Q68623350', 'pageid': 68294421, 'display': {'label': {'value': 'CY Ursae Majoris', 'language': 'en'}}, 'repository': 'wikidata', 'url': '//www.wikidata.org/wiki/Q68623350', 'concepturi': 'http://www.wikidata.org/entity/Q68623350', 'label': 'CY Ursae Majoris', 'match': {'type': 'label', 'language': 'en', 'text': 'CY Ursae Majoris'}}], 'search-continue': 7, 'success': 1}\n",
      "Q_values:['Q80607131', 'Q68234741', 'Q68612207', 'Q68232091', 'Q68234742', 'Q68149821', 'Q68623350']\n",
      "start searching Q_value:Q80607131\n",
      "{'radial velocity (P2216)': {'amount': '+198', 'unit': 'http://www.wikidata.org/entity/Q3674704', 'upperBound': '+198', 'lowerBound': '+198'}, 'constellation (P59)': 'Ursa Major (Q8918)', 'parallax (P2214)': {'amount': '+3.1841', 'unit': 'http://www.wikidata.org/entity/Q21500224', 'upperBound': '+3.3193', 'lowerBound': '+3.0489'}, 'epoch (P6259)': 'J2000.0 (Q1264450)', 'distance from Earth (P2583)': [{'amount': '+314.0605', 'unit': 'http://www.wikidata.org/entity/Q12129', 'upperBound': '+327.3958', 'lowerBound': '+300.7252'}, {'amount': '+314.06', 'unit': 'http://www.wikidata.org/entity/Q12129', 'upperBound': '+327.40', 'lowerBound': '+300.72'}], 'declination (P6258)': {'amount': '+49.68838847991610', 'unit': 'http://www.wikidata.org/entity/Q28390'}, 'SIMBAD ID (P3083)': 'V* CY UMa', 'redshift (P1090)': [{'amount': '+0.00066', 'unit': '1', 'upperBound': '+0.00386', 'lowerBound': '-0.00254'}, {'amount': '+3.0000', 'unit': '1'}], 'instance of (P31)': ['dwarf nova (Q244264)', 'cataclysmic binary candidate (Q72704237)'], 'apparent magnitude (P1215)': [{'amount': '+17.0', 'unit': '1'}, {'amount': '+16.012', 'unit': '1', 'upperBound': '+16.079', 'lowerBound': '+15.945'}, {'amount': '+15.500', 'unit': '1', 'upperBound': '+15.611', 'lowerBound': '+15.389'}, {'amount': '+15.031', 'unit': '1', 'upperBound': '+15.144', 'lowerBound': '+14.918'}, {'amount': '+17.478', 'unit': '1', 'upperBound': '+17.487', 'lowerBound': '+17.469'}, {'amount': '+17.765', 'unit': '1', 'upperBound': '+17.770', 'lowerBound': '+17.760'}, {'amount': '+17.519', 'unit': '1', 'upperBound': '+17.524', 'lowerBound': '+17.514'}, {'amount': '+17.336', 'unit': '1', 'upperBound': '+17.342', 'lowerBound': '+17.330'}, {'amount': '+17.178', 'unit': '1', 'upperBound': '+17.190', 'lowerBound': '+17.166'}, {'amount': '+17.3051', 'unit': '1', 'upperBound': '+17.3315', 'lowerBound': '+17.2787'}], 'right ascension (P6257)': {'amount': '+164.23748707677350', 'unit': 'http://www.wikidata.org/entity/Q28390'}, 'catalog code (P528)': ['2E 2359', '2E 1054.0+4957', '2MASS J10565699+4941181', 'AAVSO 1051+50', 'SBSS 1054+499', 'SV* SVS 2198', '1RXS J105656.9+494111', 'RX J1056.9+4941', 'SDSS J105657.00+494118.3', '[ZEH2003] RX J1056.9+4941 1', 'SDSS J105656.99+494118.2', 'CRTS J105657.1+494119', 'SDSS J105656.99+494118.3', 'Gaia DR2 832942871937909632', 'CY UMa', 'LAMOST J105656.99+494118.2'], 'Google Knowledge Graph ID (P2671)': '/g/11jr8r_125', 'declination component of proper motion (P10751)': {'amount': '+11.521', 'unit': 'http://www.wikidata.org/entity/Q22137107', 'upperBound': '+11.698', 'lowerBound': '+11.344'}, 'right ascension component of proper motion (P10752)': {'amount': '-28.836', 'unit': 'http://www.wikidata.org/entity/Q22137107', 'upperBound': '-28.754', 'lowerBound': '-28.918'}}\n",
      "start searching Q_value:Q68234741\n",
      "{'ADS bibcode (P819)': '1989IAUC.4763....0S', 'publication date (P577)': '+1989-01-01T00:00:00Z', 'volume (P478)': '4763', 'published in (P1433)': 'IAU Circular (Q12058137)', 'instance of (P31)': 'scholarly article (Q13442814)', 'author name string (P2093)': ['Schmeer P.', 'Waagen E.'], 'page(s) (P304)': '-1', 'title (P1476)': 'CY Ursae Majoris', 'language of work or name (P407)': 'English (Q1860)'}\n",
      "start searching Q_value:Q68612207\n",
      "{'ADS bibcode (P819)': '1988IAUC.4526....0W', 'publication date (P577)': '+1988-01-01T00:00:00Z', 'volume (P478)': '4526', 'published in (P1433)': 'IAU Circular (Q12058137)', 'instance of (P31)': 'scholarly article (Q13442814)', 'author name string (P2093)': ['Watanabe M.', 'Izumo A.', 'Kato T.'], 'page(s) (P304)': '-1', 'title (P1476)': 'CY Ursae Majoris', 'language of work or name (P407)': 'English (Q1860)'}\n",
      "start searching Q_value:Q68232091\n",
      "{'ADS bibcode (P819)': '1989IAUC.4791....0S', 'publication date (P577)': '+1989-01-01T00:00:00Z', 'volume (P478)': '4791', 'published in (P1433)': 'IAU Circular (Q12058137)', 'instance of (P31)': 'scholarly article (Q13442814)', 'author name string (P2093)': 'Schmeer P.', 'page(s) (P304)': '-1', 'title (P1476)': 'CY Ursae Majoris', 'language of work or name (P407)': 'English (Q1860)'}\n",
      "start searching Q_value:Q68234742\n",
      "{'ADS bibcode (P819)': '1989IAUC.4765....0K', 'publication date (P577)': '+1989-01-01T00:00:00Z', 'volume (P478)': '4765', 'published in (P1433)': 'IAU Circular (Q12058137)', 'instance of (P31)': 'scholarly article (Q13442814)', 'author name string (P2093)': ['Koshiro M.', 'Schmeer P.', 'Kato T.'], 'page(s) (P304)': '-1', 'title (P1476)': 'CY Ursae Majoris', 'language of work or name (P407)': 'English (Q1860)'}\n",
      "start searching Q_value:Q68149821\n",
      "{'ADS bibcode (P819)': '1990IAUC.5094....1S', 'publication date (P577)': '+1990-01-01T00:00:00Z', 'volume (P478)': '5094', 'published in (P1433)': 'IAU Circular (Q12058137)', 'instance of (P31)': 'scholarly article (Q13442814)', 'author name string (P2093)': 'Schmeer P.', 'page(s) (P304)': '1', 'title (P1476)': 'CY Ursae Majoris', 'language of work or name (P407)': 'English (Q1860)'}\n",
      "start searching Q_value:Q68623350\n",
      "{'ADS bibcode (P819)': '1993IAUC.5718....1S', 'publication date (P577)': '+1993-01-01T00:00:00Z', 'volume (P478)': '5718', 'published in (P1433)': 'IAU Circular (Q12058137)', 'instance of (P31)': 'scholarly article (Q13442814)', 'author name string (P2093)': 'Schmeer P.', 'page(s) (P304)': '1', 'title (P1476)': 'CY Ursae Majoris', 'language of work or name (P407)': 'English (Q1860)'}\n",
      "start searching:SW Ursae Majoris\n",
      "Q_value Result by finding title:SW Ursae Majoris\n",
      ", result:{'searchinfo': {'search': 'SW Ursae Majoris'}, 'search': [{'id': 'Q79603992', 'title': 'Q79603992', 'pageid': 79027411, 'display': {'label': {'value': 'SW Ursae Majoris', 'language': 'en'}, 'description': {'value': 'star', 'language': 'en'}}, 'repository': 'wikidata', 'url': '//www.wikidata.org/wiki/Q79603992', 'concepturi': 'http://www.wikidata.org/entity/Q79603992', 'label': 'SW Ursae Majoris', 'description': 'star', 'match': {'type': 'label', 'language': 'en', 'text': 'SW Ursae Majoris'}}, {'id': 'Q68194064', 'title': 'Q68194064', 'pageid': 67867020, 'display': {'label': {'value': 'SW Ursae Majoris', 'language': 'en'}, 'description': {'value': 'scientific article published in January 1991', 'language': 'en'}}, 'repository': 'wikidata', 'url': '//www.wikidata.org/wiki/Q68194064', 'concepturi': 'http://www.wikidata.org/entity/Q68194064', 'label': 'SW Ursae Majoris', 'description': 'scientific article published in January 1991', 'match': {'type': 'label', 'language': 'en', 'text': 'SW Ursae Majoris'}}, {'id': 'Q68226034', 'title': 'Q68226034', 'pageid': 67898763, 'display': {'label': {'value': 'SW Ursae Majoris', 'language': 'en'}}, 'repository': 'wikidata', 'url': '//www.wikidata.org/wiki/Q68226034', 'concepturi': 'http://www.wikidata.org/entity/Q68226034', 'label': 'SW Ursae Majoris', 'match': {'type': 'label', 'language': 'en', 'text': 'SW Ursae Majoris'}}, {'id': 'Q68154652', 'title': 'Q68154652', 'pageid': 67827957, 'display': {'label': {'value': 'SW Ursae Majoris', 'language': 'en'}}, 'repository': 'wikidata', 'url': '//www.wikidata.org/wiki/Q68154652', 'concepturi': 'http://www.wikidata.org/entity/Q68154652', 'label': 'SW Ursae Majoris', 'match': {'type': 'label', 'language': 'en', 'text': 'SW Ursae Majoris'}}, {'id': 'Q68264634', 'title': 'Q68264634', 'pageid': 67937257, 'display': {'label': {'value': 'SW Ursae Majoris', 'language': 'en'}, 'description': {'value': 'scientific article', 'language': 'en'}}, 'repository': 'wikidata', 'url': '//www.wikidata.org/wiki/Q68264634', 'concepturi': 'http://www.wikidata.org/entity/Q68264634', 'label': 'SW Ursae Majoris', 'description': 'scientific article', 'match': {'type': 'label', 'language': 'en', 'text': 'SW Ursae Majoris'}}, {'id': 'Q68782828', 'title': 'Q68782828', 'pageid': 68451985, 'display': {'label': {'value': 'SW Ursae Majoris', 'language': 'en'}, 'description': {'value': 'scientific article published in January 2006', 'language': 'en'}}, 'repository': 'wikidata', 'url': '//www.wikidata.org/wiki/Q68782828', 'concepturi': 'http://www.wikidata.org/entity/Q68782828', 'label': 'SW Ursae Majoris', 'description': 'scientific article published in January 2006', 'match': {'type': 'label', 'language': 'en', 'text': 'SW Ursae Majoris'}}, {'id': 'Q68369430', 'title': 'Q68369430', 'pageid': 68041769, 'display': {'label': {'value': 'SW Ursae Majoris', 'language': 'en'}, 'description': {'value': 'scientific article published in January 2000', 'language': 'en'}}, 'repository': 'wikidata', 'url': '//www.wikidata.org/wiki/Q68369430', 'concepturi': 'http://www.wikidata.org/entity/Q68369430', 'label': 'SW Ursae Majoris', 'description': 'scientific article published in January 2000', 'match': {'type': 'label', 'language': 'en', 'text': 'SW Ursae Majoris'}}], 'search-continue': 7, 'success': 1}\n",
      "Q_values:['Q79603992', 'Q68194064', 'Q68226034', 'Q68154652', 'Q68264634', 'Q68782828', 'Q68369430']\n",
      "start searching Q_value:Q79603992\n",
      "{'instance of (P31)': ['dwarf nova (Q244264)', 'spectroscopic binary star (Q1993624)', 'cataclysmic binary candidate (Q72704237)'], 'apparent magnitude (P1215)': [{'amount': '+15.621', 'unit': '1', 'upperBound': '+15.688', 'lowerBound': '+15.554'}, {'amount': '+14.08', 'unit': '1'}, {'amount': '+15.53', 'unit': '1'}, {'amount': '+16.913', 'unit': '1', 'upperBound': '+16.921', 'lowerBound': '+16.905'}, {'amount': '+16.867', 'unit': '1', 'upperBound': '+16.871', 'lowerBound': '+16.863'}, {'amount': '+16.894', 'unit': '1', 'upperBound': '+16.899', 'lowerBound': '+16.889'}, {'amount': '+17.004', 'unit': '1', 'upperBound': '+17.010', 'lowerBound': '+16.998'}, {'amount': '+16.824', 'unit': '1', 'upperBound': '+16.837', 'lowerBound': '+16.811'}, {'amount': '+16.5757', 'unit': '1', 'upperBound': '+16.5853', 'lowerBound': '+16.5661'}], 'declination (P6258)': {'amount': '+53.47721565370640', 'unit': 'http://www.wikidata.org/entity/Q28390'}, 'SIMBAD ID (P3083)': 'V* SW UMa', 'constellation (P59)': 'Ursa Major (Q8918)', 'parallax (P2214)': {'amount': '+6.1484', 'unit': 'http://www.wikidata.org/entity/Q21500224', 'upperBound': '+6.2289', 'lowerBound': '+6.0679'}, 'redshift (P1090)': {'amount': '+0.00097', 'unit': '1', 'upperBound': '+0.00403', 'lowerBound': '-0.00209'}, 'catalog code (P528)': ['SBSS 0832+536', 'SBSS 0833+536', 'SBC9 521', '2MASS J08364276+5328378', 'AAVSO 0829+53', 'AN 44.1909', 'RBS 710', '1RXS J083641.7+532844', 'RX J0836.6+5328', 'SDSS J083642.80+532838.1', '[ZEH2003] RX J0836.6+5328 1', 'SDSS J083642.74+532838.0', 'LINEAR 4827258', 'SDSS J083642.73+532838.3', 'WEB 8115', 'Gaia DR2 1030279027003254784', 'SW UMa'], 'epoch (P6259)': 'J2000.0 (Q1264450)', 'right ascension (P6257)': {'amount': '+129.17812285522320', 'unit': 'http://www.wikidata.org/entity/Q28390'}, 'radial velocity (P2216)': [{'amount': '+33', 'unit': 'http://www.wikidata.org/entity/Q3674704', 'upperBound': '+33', 'lowerBound': '+33'}, {'amount': '-7.0', 'unit': 'http://www.wikidata.org/entity/Q3674704'}], 'type of variable star (P881)': 'dwarf nova (Q244264)', 'distance from Earth (P2583)': {'amount': '+162.6439', 'unit': 'http://www.wikidata.org/entity/Q12129', 'upperBound': '+164.7734', 'lowerBound': '+160.5144'}, 'Google Knowledge Graph ID (P2671)': '/g/11fv1h0q3s', 'declination component of proper motion (P10751)': {'amount': '+5.944', 'unit': 'http://www.wikidata.org/entity/Q22137107', 'upperBound': '+6.039', 'lowerBound': '+5.849'}, 'right ascension component of proper motion (P10752)': {'amount': '-28.821', 'unit': 'http://www.wikidata.org/entity/Q22137107', 'upperBound': '-28.713', 'lowerBound': '-28.929'}}\n",
      "start searching Q_value:Q68194064\n",
      "{'ADS bibcode (P819)': '1991IAUC.5206....1K', 'publication date (P577)': '+1991-01-01T00:00:00Z', 'volume (P478)': '5206', 'published in (P1433)': 'IAU Circular (Q12058137)', 'instance of (P31)': 'scholarly article (Q13442814)', 'author name string (P2093)': 'Koshiro M.', 'page(s) (P304)': '1', 'title (P1476)': 'SW Ursae Majoris', 'language of work or name (P407)': 'English (Q1860)'}\n",
      "start searching Q_value:Q68226034\n",
      "{'ADS bibcode (P819)': '1986IAUC.4193....0M', 'publication date (P577)': '+1986-01-01T00:00:00Z', 'volume (P478)': '4193', 'published in (P1433)': 'IAU Circular (Q12058137)', 'instance of (P31)': 'scholarly article (Q13442814)', 'author name string (P2093)': ['Mattei J. A.', 'Medway K.', 'McKENNA J.', 'Ariail R.'], 'page(s) (P304)': '-1', 'title (P1476)': 'SW Ursae Majoris', 'language of work or name (P407)': 'English (Q1860)'}\n",
      "start searching Q_value:Q68154652\n",
      "{'ADS bibcode (P819)': '1990IAUC.4982....0N', 'publication date (P577)': '+1990-01-01T00:00:00Z', 'volume (P478)': '4982', 'published in (P1433)': 'IAU Circular (Q12058137)', 'instance of (P31)': 'scholarly article (Q13442814)', 'author name string (P2093)': ['Narumi H.', 'Feijth H.', 'Korth S.', 'Sventek P.', 'Granslo B. H.', 'McKENNA J.'], 'page(s) (P304)': '-1', 'title (P1476)': 'SW Ursae Majoris', 'language of work or name (P407)': 'English (Q1860)'}\n",
      "start searching Q_value:Q68264634\n",
      "{'ADS bibcode (P819)': '1997IAUC.6760S...1M', 'publication date (P577)': '+1997-01-01T00:00:00Z', 'volume (P478)': '6760', 'published in (P1433)': 'IAU Circular (Q12058137)', 'instance of (P31)': 'scholarly article (Q13442814)', 'author name string (P2093)': ['Mattei J. A.', 'Hanson G.', 'Schmeer P.', 'Granslo B.'], 'page(s) (P304)': '1', 'title (P1476)': 'SW Ursae Majoris', 'language of work or name (P407)': 'English (Q1860)'}\n",
      "start searching Q_value:Q68782828\n",
      "{'ADS bibcode (P819)': '2006IAUC.8748....2W', 'publication date (P577)': '+2006-01-01T00:00:00Z', 'volume (P478)': '8748', 'published in (P1433)': 'IAU Circular (Q12058137)', 'instance of (P31)': 'scholarly article (Q13442814)', 'author name string (P2093)': ['Waagen E. O.', 'Naillon D.', 'Schmeer P.', 'Swierczynski S.'], 'page(s) (P304)': '2', 'title (P1476)': 'SW Ursae Majoris'}\n",
      "start searching Q_value:Q68369430\n",
      "{'ADS bibcode (P819)': '2000IAUC.7365R...1M', 'publication date (P577)': '+2000-01-01T00:00:00Z', 'volume (P478)': '7365', 'published in (P1433)': 'IAU Circular (Q12058137)', 'instance of (P31)': 'scholarly article (Q13442814)', 'author name string (P2093)': ['Mattei J. A.', 'Zissell R.', 'Hanson G.', 'Jones C.', 'Schmeer P.', 'Tracy S.', 'Gunther J.', 'Bortle J.', 'Poyner G.'], 'page(s) (P304)': '1', 'title (P1476)': 'SW Ursae Majoris', 'language of work or name (P407)': 'English (Q1860)'}\n"
     ]
    }
   ],
   "source": [
    "import wptools\n",
    "import re\n",
    "\n",
    "def extract_wiki_Q_value(sentence):\n",
    "  Q_value = re.search('(.+)(\\()(Q\\d+)(\\))',sentence)\n",
    "  return Q_value[1],Q_value[3]\n",
    "\n",
    "def extract_wiki_P_value(sentence):\n",
    "  P_value = re.search('(.+)(\\()(P\\d+)(\\))',sentence)\n",
    "  return P_value[1], P_value[3]\n",
    "\n",
    "def wikidata2Graph(wiki_data: dict):\n",
    "    G = nx.DiGraph()\n",
    "    for key in wiki_data.keys():\n",
    "        describe, p_value = extract_wiki_P_value(key)\n",
    "        wiki_data[key]\n",
    "\n",
    "\n",
    "# Find page\n",
    "candidate_graphs = []\n",
    "for col in cols_save:\n",
    "    print(f\"start searching:{col}\")\n",
    "    Q_values = find_relevant_Q_value(col)\n",
    "    print(f\"Q_values:{Q_values}\")\n",
    "    for Q_value in Q_values:\n",
    "        print(f\"start searching Q_value:{Q_value}\")\n",
    "        page = wptools.page(wikibase=Q_value,silent=True)\n",
    "        page.get_wikidata()\n",
    "        # page.data.kyes() = dict_keys(['requests', 'labels', 'wikidata', 'wikidata_pageid', 'modified', 'wikibase', 'wikidata_url', 'description', 'label', 'claims', 'title', 'what'])\n",
    "        wiki_data = page.data['wikidata']\n",
    "         \n",
    "        # Create graph from wikidata info\n",
    "        \n",
    "        # Using model to match the subGraph here!!!!\n",
    "        break\n"
   ]
  },
  {
   "cell_type": "code",
   "execution_count": null,
   "metadata": {},
   "outputs": [],
   "source": []
  }
 ],
 "metadata": {
  "kernelspec": {
   "display_name": "Python 3.8.13 ('TABLE_GMN')",
   "language": "python",
   "name": "python3"
  },
  "language_info": {
   "codemirror_mode": {
    "name": "ipython",
    "version": 3
   },
   "file_extension": ".py",
   "mimetype": "text/x-python",
   "name": "python",
   "nbconvert_exporter": "python",
   "pygments_lexer": "ipython3",
   "version": "3.8.13"
  },
  "orig_nbformat": 4,
  "vscode": {
   "interpreter": {
    "hash": "9812deb61a8dc40a084123861b4bd5535ce3b85a9490788ac151dfa819a46b4c"
   }
  }
 },
 "nbformat": 4,
 "nbformat_minor": 2
}
