{
 "cells": [
  {
   "cell_type": "code",
   "execution_count": 2,
   "metadata": {},
   "outputs": [],
   "source": [
    "import wptools\n"
   ]
  },
  {
   "cell_type": "code",
   "execution_count": 3,
   "metadata": {},
   "outputs": [],
   "source": [
    "import wptools\n",
    "def ambiguous_check(page):\n",
    "    page.get_query()\n",
    "\n",
    "    if 'diambiguation' in page.data.keys():\n",
    "        return True, page\n",
    "    return False, page\n",
    "    \n",
    "\n",
    "def ambiguous_handler(query_page):\n",
    "    return query_page.data[\"links\"]\n",
    "\n",
    "def wikidata_extract(page):\n",
    "    page.get_wikidata() \n",
    "    label = page.data[\"label\"]\n",
    "    description = page.data[\"description\"]\n",
    "    node_entity = {\"label\":label, \"description\":description}\n",
    "    print(tmp_page.data['claims'])\n",
    "    pass\n"
   ]
  },
  {
   "cell_type": "code",
   "execution_count": 24,
   "metadata": {},
   "outputs": [
    {
     "name": "stdout",
     "output_type": "stream",
     "text": [
      "8\n",
      "['Generation iY', 'Imperial Yeomanry', 'InuYasha', 'Invincible Youth', 'Ito-Yokado', 'Saudi–Iraqi neutral zone', 'Seven & I Holdings Co.', 'Yemenia']\n"
     ]
    }
   ],
   "source": [
    "#draft\n",
    "\n",
    "# page = wptools.page('Haidi')\n",
    "# page.get_query().data.keys()\n",
    "# page.get_query().data.keys()\n",
    "# page.get_wikidata()\n",
    "########\n",
    "# Using assessment to decide if it is ambiguous\n",
    "\n",
    "# /page/related/{title} Get pages related to the given title\n",
    "# a1 = wptools.page('/page/related/{Haidi}')\n",
    "# a1\n",
    "# page.get_restbase('/page/related/')\n",
    "# page.get_wikidata()\n",
    "# page.data['wikidata']\n",
    "\n",
    "\n",
    "# page = wptools.page('Simone de Beauvoir')\n",
    "# page.wanted_labels(['P21', 'Q6581072'])\n",
    "# page.get_restbase('/page/summary/')\n",
    "\n",
    "\n",
    "# Try how to split out the ambiguous\n",
    "# IY Ursae Majoris\n",
    "page = wptools.page('IY',silent=True)\n",
    "page.get_query()\n",
    "# if the data have disambiguation, we can say they have \n",
    "print(page.data['disambiguation']) # and this would show how may whould it be\n",
    "print(page.data['links'])\n",
    "if 'diambiguation' in page.data.keys():\n",
    "    links = page.data['links'] # and this would show how may whould it be\n",
    "    print(\"links\",links)\n",
    "    for link in links:\n",
    "        tmp_page = wptools.page(link)\n",
    "        tmp_page.get_wikidata()\n",
    "        print(tmp_page.data.keys())\n",
    "        print(tmp_page.data['claims'])\n",
    "\n",
    "\n",
    "\n",
    "# page = wptools.page('.test')\n",
    "# page.get_query()\n",
    "# print(page.data.keys())\n",
    "\n",
    "# # Unique identify:\n",
    "# # https://www.wikidata.org/wiki/Wikidata:Glossary/en\n",
    "# print(f\"AA:{page.data['label']}\")\n",
    "# print(f\"BB:{page.data['description']}\")\n",
    "\n",
    "# How to get super category"
   ]
  },
  {
   "cell_type": "code",
   "execution_count": null,
   "metadata": {},
   "outputs": [],
   "source": []
  },
  {
   "cell_type": "code",
   "execution_count": null,
   "metadata": {},
   "outputs": [],
   "source": []
  }
 ],
 "metadata": {
  "kernelspec": {
   "display_name": "Python 3.8.13 ('TABLE_GMN')",
   "language": "python",
   "name": "python3"
  },
  "language_info": {
   "codemirror_mode": {
    "name": "ipython",
    "version": 3
   },
   "file_extension": ".py",
   "mimetype": "text/x-python",
   "name": "python",
   "nbconvert_exporter": "python",
   "pygments_lexer": "ipython3",
   "version": "3.8.13"
  },
  "orig_nbformat": 4,
  "vscode": {
   "interpreter": {
    "hash": "9812deb61a8dc40a084123861b4bd5535ce3b85a9490788ac151dfa819a46b4c"
   }
  }
 },
 "nbformat": 4,
 "nbformat_minor": 2
}
